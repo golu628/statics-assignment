{
 "cells": [
  {
   "cell_type": "markdown",
   "id": "f4f4a6d5",
   "metadata": {},
   "source": [
    "1.Statistics is the science of collecting, analyzing, presenting, and interpreting data. It uses methods of probability, estimation, hypothesis testing, and graphical and numerical summaries to make inferences about populations and variables. Statistics can be used to answer questions, test hypotheses, or support decisions in various fields such as economics, medicine, education, and social sciences."
   ]
  },
  {
   "cell_type": "markdown",
   "id": "df3964b9",
   "metadata": {},
   "source": [
    "2.There are two main types of statistics: descriptive and inferential. Descriptive statistics summarizes the data using measures of central tendency, variability, and distribution. Inferential statistics draws conclusions from the data using techniques such as confidence intervals, hypothesis tests, and regression analysis."
   ]
  },
  {
   "cell_type": "markdown",
   "id": "754c2811",
   "metadata": {},
   "source": [
    "3.here are four main types of data: nominal, ordinal, discrete, and continuous. They differ in the following ways:\n",
    "\n",
    "Nominal data are categorical data that have no natural order or ranking. They are used to label or identify different groups or classes. For example, the names of countries, colors, or genders are nominal data.\n",
    "Ordinal data are categorical data that have a natural order or ranking, but the difference between the categories is not meaningful or consistent. They are used to express preferences, opinions, or levels of measurement. For example, the ratings of a movie, the grades of a student, or the stages of a disease are ordinal data.\n",
    "Discrete data are numerical data that have a finite or countable number of values. They are used to count or measure discrete events or objects. For example, the number of books, students, or coins are discrete data.\n",
    "Continuous data are numerical data that have an infinite or uncountable number of values. They are used to measure or record continuous phenomena or quantities. For example, the height, weight, or temperature are continuous data."
   ]
  },
  {
   "cell_type": "markdown",
   "id": "e52c54e5",
   "metadata": {},
   "source": [
    "4.a- qualitative\n",
    "4.b- qualitative\n",
    "4.c -quantitative\n",
    "4.d-quantitaive"
   ]
  },
  {
   "cell_type": "markdown",
   "id": "e9f1d9be",
   "metadata": {},
   "source": [
    "5.Levels of measurement are a way of classifying the type of information that can be obtained from a variable. A variable is anything that can vary or change in a data set, such as age, height, weight, gender, etc. There are four levels of measurement: nominal, ordinal, interval, and ratio. Each level has different properties and allows different types of analysis.\n",
    "\n",
    "Nominal level: This is the lowest level of measurement. It is used for variables that can only be categorized into groups or labels, but have no order or ranking. For example, gender, eye color, blood type, and nationality are nominal variables. You can only count the frequency or percentage of each category, but you cannot compare or order them. The mode is the only measure of central tendency for nominal variables.\n",
    "Ordinal level: This is the next level of measurement. It is used for variables that can be categorized and ranked in order, but the difference between the categories is not equal or meaningful. For example, satisfaction, pain level, education level, and social class are ordinal variables. You can compare and order the categories, but you cannot measure the distance or gap between them. The median and the mode are the common measures of central tendency for ordinal variables.\n",
    "Interval level: This is the third level of measurement. It is used for variables that can be categorized, ranked, and have equal intervals or distances between the values, but have no true zero point. For example, temperature, IQ score, and year of birth are interval variables. You can compare, order, and measure the difference between the values, but you cannot calculate the ratio or proportion of the values. The mean, median, and mode are the common measures of central tendency for interval variables.\n",
    "Ratio level: This is the highest level of measurement. It is used for variables that can be categorized, ranked, have equal intervals, and have a true zero point. For example, height, weight, age, and income are ratio variables. You can compare, order, measure the difference, and calculate the ratio or proportion of the values. The mean, median, and mode are the common measures of central tendency for ratio variables."
   ]
  },
  {
   "cell_type": "markdown",
   "id": "a3e8cc2b",
   "metadata": {},
   "source": [
    "6.The level of measurement of a variable determines how you can analyze your data and what types of statistics you can use. Depending on the level of measurement, you can perform different descriptive statistics to get an overall summary of your data and inferential statistics to see if your results support or refute your hypothesis.\n",
    "\n",
    "For example, if you have a nominal variable, such as gender, you can only count the frequency or percentage of each category, but you cannot compare or order them. The mode is the only measure of central tendency for nominal variables. You can also use chi-square tests to see if there is a relationship between two nominal variables.\n",
    "\n",
    "If you have an ordinal variable, such as satisfaction, you can compare and order the categories, but you cannot measure the difference between them. The median and the mode are the common measures of central tendency for ordinal variables. You can also use non-parametric tests, such as Mann-Whitney U test or Kruskal-Wallis test, to see if there is a difference between two or more ordinal variables.\n",
    "\n",
    "If you have an interval variable, such as temperature, you can compare, order, and measure the difference between the values, but you cannot calculate the ratio of the values. The mean, median, and mode are the common measures of central tendency for interval variables. You can also use parametric tests, such as t-tests or ANOVA, to see if there is a difference between two or more interval variables.\n",
    "\n",
    "If you have a ratio variable, such as height, you can compare, order, measure the difference, and calculate the ratio of the values. The mean, median, and mode are the common measures of central tendency for ratio variables. You can also use parametric tests, such as t-tests or ANOVA, to see if there is a difference between two or more ratio variables."
   ]
  },
  {
   "cell_type": "markdown",
   "id": "3efce963",
   "metadata": {},
   "source": [
    "7.Nominal data type and ordinal data type are two levels of measurement for categorical data. They differ in the following ways:\n",
    "Nominal data type is used for variables that can only be categorized into groups or labels, but have no order or ranking. For example, gender, eye color, or blood type are nominal variables. You can only count the frequency or percentage of each category, but you cannot compare or order them.\n",
    "Ordinal data type is used for variables that can be categorized and ranked in order, but the difference between the categories is not equal or meaningful. For example, satisfaction, pain level, or education level are ordinal variables. You can compare and order the categories, but you cannot measure the distance or gap between them."
   ]
  },
  {
   "cell_type": "markdown",
   "id": "e65d843e",
   "metadata": {},
   "source": [
    "8.One type of plot that can be used to display data in terms of range is a box plot. A box plot, also known as a box and whisker plot, is a graphical representation of the five-number summary of a dataset: minimum, first quartile, median, third quartile, and maximum. The box plot shows the distribution of the data by dividing it into four equal parts, called quartiles. The box represents the interquartile range (IQR), which is the difference between the first and third quartiles. The median is shown as a line inside the box. The whiskers extend from the box to the minimum and maximum values, or to a specified distance from the box. Outliers, if any, are shown as individual points beyond the whiskers. A box plot can help you compare the variability, symmetry, and outliers of different groups of data.\n",
    "\n",
    "Here is an example of a box plot that shows the range of test scores for four classes:\n",
    "\n",
    "!Box plot example\n",
    "\n",
    "You can see that Class A has the highest median score, but also the largest range and IQR. Class B has the lowest median score, but also the smallest range and IQR. Class C has a symmetric distribution, while Class D has a skewed distribution with an outlier."
   ]
  },
  {
   "cell_type": "markdown",
   "id": "69f15423",
   "metadata": {},
   "source": [
    "9.Descriptive statistics and inferential statistics are two branches of statistics that have different purposes and methods.\n",
    "\n",
    "Descriptive statistics use summary statistics, graphs, and tables to describe a data set. This is useful for helping us gain a quick and easy understanding of a data set without pouring over all of the individual data values. For example, if we want to describe the test scores of a class of students, we can use descriptive statistics such as the mean, median, standard deviation, histogram, and box plot. These statistics can help us see the center, spread, and shape of the distribution of scores.\n",
    "Inferential statistics use samples to draw inferences about larger populations. This is useful for making predictions or generalizations about a data set that we cannot observe directly or completely. For example, if we want to estimate the average height of all adults in a country, we can use inferential statistics such as sampling, confidence intervals, and hypothesis testing. These statistics can help us estimate the population parameter based on a sample statistic, and measure the uncertainty and significance of our results."
   ]
  },
  {
   "cell_type": "markdown",
   "id": "0b27149f",
   "metadata": {},
   "source": [
    "10.Some common measures of central tendency and variability used in statistics are:\n",
    "\n",
    "Mean: The mean is the average of all the values in a dataset. It is calculated by adding up all the values and dividing by the number of values. The mean can be used to describe the typical or expected value of a dataset. For example, the mean height of a group of people can tell us how tall they are on average.\n",
    "Median: The median is the middle value in a dataset when it is sorted in ascending or descending order. If the dataset has an odd number of values, the median is the middle value. If the dataset has an even number of values, the median is the average of the two middle values. The median can be used to describe the central location of a dataset that is skewed or has outliers. For example, the median income of a country can tell us how much most people earn, without being affected by extremely high or low incomes.\n",
    "Mode: The mode is the most frequently occurring value in a dataset. There can be one mode, more than one mode, or no mode in a dataset. The mode can be used to describe the most popular or common value of a dataset. For example, the mode of a survey question can tell us what option most people chose.\n",
    "Range: The range is the difference between the maximum and minimum values in a dataset. It is calculated by subtracting the minimum value from the maximum value. The range can be used to describe the spread or variability of a dataset. For example, the range of test scores can tell us how much the scores vary from the lowest to the highest.\n",
    "Interquartile range (IQR): The interquartile range is the difference between the third quartile and the first quartile of a dataset. The quartiles are the values that divide the dataset into four equal parts. The first quartile is the median of the lower half of the dataset, the second quartile is the median of the whole dataset, and the third quartile is the median of the upper half of the dataset. The IQR can be used to describe the variability of a dataset that is skewed or has outliers. For example, the IQR of house prices can tell us how much the prices vary in the middle 50% of the dataset, without being affected by extremely high or low prices.\n",
    "Variance: The variance is the average of the squared differences between each value and the mean of the dataset. It is calculated by adding up the squared differences and dividing by the number of values. The variance can be used to describe how far the values are spread out from the mean of the dataset. For example, the variance of exam scores can tell us how much the scores deviate from the average score.\n",
    "Standard deviation: The standard deviation is the square root of the variance. It is calculated by taking the square root of the variance. The standard deviation can be used to describe how far the values are spread out from the mean of the dataset in the same units as the original values. For example, the standard deviation of heights can tell us how much the heights differ from the average height in centimeters."
   ]
  }
 ],
 "metadata": {
  "kernelspec": {
   "display_name": "Python 3",
   "language": "python",
   "name": "python3"
  },
  "language_info": {
   "codemirror_mode": {
    "name": "ipython",
    "version": 3
   },
   "file_extension": ".py",
   "mimetype": "text/x-python",
   "name": "python",
   "nbconvert_exporter": "python",
   "pygments_lexer": "ipython3",
   "version": "3.8.8"
  }
 },
 "nbformat": 4,
 "nbformat_minor": 5
}
